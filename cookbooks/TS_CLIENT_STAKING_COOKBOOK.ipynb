{
 "cells": [
  {
   "cell_type": "markdown",
   "metadata": {},
   "source": [
    "# Twinstake Staking API Cookbook\n",
    "\n",
    "Requirements:\n",
    "- Python>=3.11\n",
    "- requests\n",
    "- boto3\n",
    "- fireblocks >=6.0.0 ([SDK](https://github.com/fireblocks/py-sdk))\n",
    "\n",
    "\n",
    "SDKs:\n",
    "- Using **Fireblocks** to manage vaults & tokens\n",
    "- Using **Twinstake API** to build staking transactions and broadcast them to the network"
   ]
  },
  {
   "cell_type": "code",
   "execution_count": 3,
   "metadata": {},
   "outputs": [],
   "source": [
    "import requests\n",
    "import boto3\n",
    "import time\n",
    "import json\n",
    "\n",
    "from fireblocks.client import Fireblocks\n",
    "from fireblocks.client_configuration import ClientConfiguration\n",
    "from fireblocks.base_path import BasePath\n",
    "from fireblocks.models.vault_account import VaultAccount\n",
    "from fireblocks.models.transaction_request import TransactionRequest, TransactionOperation\n",
    "from fireblocks.models.transaction_response import TransactionResponse\n",
    "from fireblocks.models.transfer_peer_path_type import TransferPeerPathType\n",
    "from fireblocks.models.source_transfer_peer_path import SourceTransferPeerPath"
   ]
  },
  {
   "cell_type": "markdown",
   "metadata": {},
   "source": [
    "## Fireblocks SDK Setup\n",
    "\n",
    "- Provided by Fireblocks\n",
    "- Built by the client on its own\n",
    "- Used to get the public key, address on a blockchain and sign transactions\n",
    "\n",
    "TODO:\n",
    "- Update using your fireblocks secret key location, API key & Firbelocks API Path"
   ]
  },
  {
   "cell_type": "code",
   "execution_count": 4,
   "metadata": {},
   "outputs": [],
   "source": [
    "YOUR_SECRET_KEY_LOCATION = './...'\n",
    "YOUR_API_KEY = ''\n",
    "FIREBLOCKS_BASE_PATH = BasePath.Sandbox\n",
    "\n",
    "with open(YOUR_SECRET_KEY_LOCATION, 'r') as file:\n",
    "    secret_key_value = file.read()\n",
    "\n",
    "configuration = ClientConfiguration(\n",
    "        api_key=YOUR_API_KEY,\n",
    "        secret_key=secret_key_value,\n",
    "        base_path=FIREBLOCKS_BASE_PATH\n",
    ")"
   ]
  },
  {
   "cell_type": "code",
   "execution_count": 5,
   "metadata": {},
   "outputs": [],
   "source": [
    "class FireblocksFlow:\n",
    "    \"\"\"Fireblocks class to manage vaults & tokens\"\"\"\n",
    "    def __init__(self, configuration: ClientConfiguration):\n",
    "        self.client: Fireblocks = Fireblocks(configuration)\n",
    "        self.vaults: VaultAccount = self._get_vault_account()\n",
    "\n",
    "    def _get_vault_account(self) -> VaultAccount:\n",
    "        api_response = self.client.vaults.get_paged_vault_accounts().result()\n",
    "        return api_response.data.accounts\n",
    "    \n",
    "    @property\n",
    "    def vault_ids(self) -> list[str]:\n",
    "        return [vault.id for vault in self.vaults]\n",
    "\n",
    "    def get_public_key(self, vault_id: str, asset_id: str) -> str:\n",
    "        change = 0\n",
    "        address_index = 0\n",
    "        api_response = self.client.vaults.get_public_key_info_for_address(\n",
    "            vault_id, asset_id, change, address_index, True\n",
    "        ).result()\n",
    "        return api_response.data.public_key\n",
    "\n",
    "    def get_addresses(self, vault_id: str, asset_id: str) -> str:\n",
    "        try:\n",
    "            api_response = self.client.vaults.get_vault_account_asset_addresses_paginated(vault_id, asset_id).result()\n",
    "            return [address.address for address in api_response.data.addresses]\n",
    "        except Exception as e:\n",
    "            print(e)\n",
    "            print(f\"Error getting asset addresse {asset_id} for vault {vault_id}\")\n",
    "            return None\n",
    "\n",
    "    def get_transaction_info(self, tx_id: str) -> dict:\n",
    "        return self.client.transactions.get_transaction(tx_id).result()\n",
    "\n",
    "    def sign_message(self, message_hash: str, vault_id: str, asset_id: str) -> str:\n",
    "        extra = {\n",
    "            \"rawMessageData\": {\n",
    "                \"messages\": [\n",
    "                    {\n",
    "                        \"content\": message_hash,\n",
    "                    }\n",
    "                ]\n",
    "            }\n",
    "        }\n",
    "        \n",
    "        tx_request = TransactionRequest(\n",
    "            operation=TransactionOperation.RAW,\n",
    "            asset_id=asset_id,\n",
    "            source=SourceTransferPeerPath(\n",
    "                type=TransferPeerPathType.VAULT_ACCOUNT,\n",
    "                id=vault_id\n",
    "            ),\n",
    "            extraParameters=extra\n",
    "        )\n",
    "\n",
    "        return self.client.transactions.create_transaction(\n",
    "            transaction_request=tx_request\n",
    "        ).result()"
   ]
  },
  {
   "cell_type": "markdown",
   "metadata": {},
   "source": [
    "## Twinstake API Setup\n",
    "\n",
    "Sending API requests to Twinstake\n",
    "We are providing documentation for the API in our [**documentation page**](https://docs.twinstake.io/)\n",
    "\n",
    "Fill in your API credentials and the Twinstake API URL you want to use (mainnet or testnet)\n",
    "\n",
    "- Testnet \n",
    "    - Client ID: `5auqhut2p16as4erujcq0kbu9k`\n",
    "    - API URL: `https://dev.api.twinstake.io/v2/`\n",
    "\n",
    "- Mainnet \n",
    "    - Client ID: `2t0af84tabi78j5et1b7pbjiqa`\n",
    "    - API URL: `https://api.twinstake.io/v2/`"
   ]
  },
  {
   "cell_type": "code",
   "execution_count": 6,
   "metadata": {},
   "outputs": [],
   "source": [
    "TWINSTAKE_API_URL = \"https://dev.api.twinstake.io/v2/\" # https://dev.api.twinstake.io/v2/\n",
    "TWINSTAKE_CLIENT_ID = \"\"\n",
    "TWINSTAKE_USERNAME = \"\"\n",
    "TWINSTAKE_PASSWORD = \"\"\n",
    "\n",
    "def twinstake_api_post(token, endpoint, payload={}):\n",
    "    resp = requests.post(\n",
    "        f\"{TWINSTAKE_API_URL}{endpoint}\",\n",
    "        headers={\"Authorization\": \"Bearer \" + token},\n",
    "        json=payload,\n",
    "    )\n",
    "    if resp.status_code == 200:\n",
    "        return resp.json()\n",
    "    return resp\n",
    "\n",
    "def twinstake_api_get(token, endpoint):\n",
    "    resp = requests.get(\n",
    "        f\"{TWINSTAKE_API_URL}{endpoint}\",\n",
    "        headers={\"Authorization\": \"Bearer \" + token},\n",
    "    )\n",
    "    if resp.status_code == 200:\n",
    "        return resp.json()\n",
    "    print(f\"Error: {resp.status_code}!\")\n",
    "    return resp\n",
    "\n",
    "def get_cognito_auth():\n",
    "    client = boto3.client(\"cognito-idp\", \"eu-west-1\")\n",
    "    resp = client.initiate_auth(\n",
    "        AuthFlow=\"USER_PASSWORD_AUTH\",\n",
    "        AuthParameters={\"USERNAME\": TWINSTAKE_USERNAME, \"PASSWORD\": TWINSTAKE_PASSWORD},\n",
    "        ClientId=TWINSTAKE_CLIENT_ID,\n",
    "    )\n",
    "    return resp[\"AuthenticationResult\"][\"IdToken\"]"
   ]
  },
  {
   "cell_type": "markdown",
   "metadata": {},
   "source": [
    "## Setup\n",
    "\n",
    "- Choose the asset you want to stake. Available assets can be retrieved from the Fireblocks API\n",
    "    - `fb_flow.client.blockchains_assets.get_supported_assets().result().data`\n",
    "- Input the Twinstake Validator address you want to stake to\n",
    "\n",
    "Testnets validators:\n",
    "- `Solana: vgcDar2pryHvMgPkKaZfh8pQy4BJxv7SpwUG7zinWjG`\n",
    "- `Cosmos: cosmosvaloper1apac0g5s88pfjvlgjqjnr0kdpkpmhx8pne4608`\n",
    "- `Celestia: celestiavaloper1jt9w26mpxxjsk63mvd4m2ynj0af09cslh5d096`\n",
    "- `Near: kiln.pool.f863973.m0`\n",
    "- `Polygon: 0x00bd5b5d50c60a0702EDF6536b1e4897ea2d7f9f`"
   ]
  },
  {
   "cell_type": "code",
   "execution_count": null,
   "metadata": {},
   "outputs": [],
   "source": [
    "ASSET = \"NEAR_TEST\"#\"ETH_TEST5\"#\"NEAR_TEST\" #\"OM\", \"ATOM\", ...\n",
    "VAULT_ID = \"1\" # Your Fireblocks Vault ID containing the assets\n",
    "VALIDATOR = \"kiln.pool.f863973.m0\"#\"0x00bd5b5d50c60a0702EDF6536b1e4897ea2d7f9f\" # Twinstake Validator Address\n",
    "ENTITY_FILTER = \"\" # Your Twinstake Entity Filter to use for the given asset\n",
    "\n",
    "fb_flow = FireblocksFlow(configuration)\n",
    "address = fb_flow.get_addresses(VAULT_ID, ASSET)[0]\n",
    "public_key = fb_flow.get_public_key(VAULT_ID, ASSET)\n",
    "print(f\"📝 Fireblocks Address: {address}\")"
   ]
  },
  {
   "cell_type": "markdown",
   "metadata": {},
   "source": [
    "# Solana Staking with Twinstake and Fireblocks\n",
    "\n",
    "ASSET = `\"SOL_TEST\"` for devnet, `\"SOL\"` for mainnet\n",
    "\n",
    "Cookbook:\n",
    "- [Creating a Solana Stake Account](#1-creating-a-solana-stake-account)\n",
    "- [Delegating the Stake](#2-delegating-the-stake)\n",
    "- [Deactivating the Stake](#3-deactivating-the-stake)\n",
    "- [Withdrawing the Stake](#4-withdrawing-the-stake)\n"
   ]
  },
  {
   "cell_type": "markdown",
   "metadata": {},
   "source": [
    "### 1. Creating a Solana Stake Account\n",
    "\n",
    "- Creating a stake account with the amount of SOL to stake\n",
    "- Know what will be the stake account address"
   ]
  },
  {
   "cell_type": "code",
   "execution_count": null,
   "metadata": {},
   "outputs": [],
   "source": [
    "SOL_AMOUNT = 0.01 # in $SOL\n",
    "\n",
    "create_stake_account = twinstake_api_post(\n",
    "    token=get_cognito_auth(), \n",
    "    endpoint=\"staking/solana/create-stake-account\", \n",
    "    payload={\n",
    "        \"amount\": SOL_AMOUNT,\n",
    "        \"delegator_address\": address,\n",
    "        \"withdraw_authority_address\": address,\n",
    "        \"stake_authority_address\": address,\n",
    "        \"entity_filter\": ENTITY_FILTER\n",
    "    }\n",
    ")\n",
    "print(f\"🧪 ...New Stake Account: {create_stake_account['stake_account_address']}\")"
   ]
  },
  {
   "cell_type": "code",
   "execution_count": null,
   "metadata": {},
   "outputs": [],
   "source": [
    "# Fireblocks Raw Signing\n",
    "signed_request = fb_flow.sign_message(create_stake_account[\"transaction\"][\"hash\"], VAULT_ID, ASSET)\n",
    "while True:\n",
    "    tx_info: TransactionResponse = fb_flow.get_transaction_info(signed_request.data.id).data\n",
    "    if tx_info.status == \"COMPLETED\":\n",
    "        print(\"✍🏻 Transaction Signed\")\n",
    "        break\n",
    "    else:\n",
    "        time.sleep(1)\n",
    "        continue"
   ]
  },
  {
   "cell_type": "code",
   "execution_count": null,
   "metadata": {},
   "outputs": [],
   "source": [
    "# Broadcasting the transaction to the network\n",
    "signature = tx_info.signed_messages[0].to_dict()[\"signature\"]['fullSig']\n",
    "broadcast_create_stake_account = twinstake_api_post(\n",
    "    token=get_cognito_auth(), \n",
    "    endpoint=\"staking/solana/broadcast\",\n",
    "    payload={\n",
    "        \"unsigned_transaction\": create_stake_account['transaction']['hex'],\n",
    "        \"signatures\": [signature],\n",
    "    }\n",
    ")\n",
    "print(f\"🎉 Broadcasted Transaction: {broadcast_create_stake_account['transaction_hash']}\")"
   ]
  },
  {
   "cell_type": "code",
   "execution_count": null,
   "metadata": {},
   "outputs": [],
   "source": [
    "# Checking the status of the transaction\n",
    "tx_status = twinstake_api_get(\n",
    "    token=get_cognito_auth(), \n",
    "    endpoint=f\"staking/solana/transactions/{broadcast_create_stake_account['transaction_hash']}\", \n",
    ")\n",
    "print(\"🔎 ✨ Successfully found transaction on the network\")\n",
    "print(tx_status)"
   ]
  },
  {
   "cell_type": "markdown",
   "metadata": {},
   "source": [
    "### 2 - Delegate the stake to the Validator\n",
    "\n",
    "- Using the stake account address previously created, delegate the stake to the validator"
   ]
  },
  {
   "cell_type": "code",
   "execution_count": 62,
   "metadata": {},
   "outputs": [],
   "source": [
    "delegate_sol = twinstake_api_post(\n",
    "    token=get_cognito_auth(), \n",
    "    endpoint=\"staking/solana/delegate\", \n",
    "    payload={\n",
    "        \"delegator_address\": address,\n",
    "        \"stake_account_address\": create_stake_account['stake_account_address'],\n",
    "        \"validator_address\": VALIDATOR,\n",
    "        \"entity_filter\": ENTITY_FILTER\n",
    "    }\n",
    ")"
   ]
  },
  {
   "cell_type": "code",
   "execution_count": null,
   "metadata": {},
   "outputs": [],
   "source": [
    "# Fireblocks Raw Signing\n",
    "signed_request = fb_flow.sign_message(delegate_sol[\"transaction\"][\"hash\"], VAULT_ID, ASSET)\n",
    "while True:\n",
    "    tx_info: TransactionResponse = fb_flow.get_transaction_info(signed_request.data.id).data\n",
    "    if tx_info.status == \"COMPLETED\":\n",
    "        print(\"✍🏻 Transaction Signed\")\n",
    "        break\n",
    "    else:\n",
    "        time.sleep(1)\n",
    "        continue"
   ]
  },
  {
   "cell_type": "code",
   "execution_count": null,
   "metadata": {},
   "outputs": [],
   "source": [
    "# Broadcasting the transaction to the network\n",
    "signature = tx_info.signed_messages[0].to_dict()[\"signature\"]['fullSig']\n",
    "broadcast_delegate_sol = twinstake_api_post(\n",
    "    token=get_cognito_auth(), \n",
    "    endpoint=\"staking/solana/broadcast\", \n",
    "    payload={\n",
    "        \"unsigned_transaction\": delegate_sol['transaction']['hex'],\n",
    "        \"signatures\": [signature],\n",
    "    }\n",
    ")\n",
    "print(f\"🎉 Broadcasted Transaction: {broadcast_delegate_sol['transaction_hash']}\")"
   ]
  },
  {
   "cell_type": "code",
   "execution_count": null,
   "metadata": {},
   "outputs": [],
   "source": [
    "tx_status = twinstake_api_get(\n",
    "    token=get_cognito_auth(), \n",
    "    endpoint=f\"staking/solana/transactions/{broadcast_delegate_sol['transaction_hash']}\", \n",
    ")\n",
    "print(\"🔎 ✨ Successfully found transaction on the network\")\n",
    "print(tx_status)"
   ]
  },
  {
   "cell_type": "markdown",
   "metadata": {},
   "source": [
    "### 3 - Deactivate the stake\n",
    "\n",
    "- Deactivate the stake from the validator using the stake account address you have"
   ]
  },
  {
   "cell_type": "code",
   "execution_count": 66,
   "metadata": {},
   "outputs": [],
   "source": [
    "deactivate_sol = twinstake_api_post(\n",
    "    token=get_cognito_auth(), \n",
    "    endpoint=\"staking/solana/deactivate\", \n",
    "    payload={\n",
    "        \"delegator_address\": address,\n",
    "        \"stake_account_address\": create_stake_account['stake_account_address'],\n",
    "        \"validator_address\": VALIDATOR,\n",
    "        \"entity_filter\": ENTITY_FILTER\n",
    "    }\n",
    ")\n",
    "signed_request = fb_flow.sign_message(deactivate_sol[\"transaction\"][\"hash\"], VAULT_ID, ASSET)"
   ]
  },
  {
   "cell_type": "code",
   "execution_count": null,
   "metadata": {},
   "outputs": [],
   "source": [
    "while True:\n",
    "    tx_info: TransactionResponse = fb_flow.get_transaction_info(signed_request.data.id).data\n",
    "    if tx_info.status == \"COMPLETED\":\n",
    "        print(\"✍🏻 Transaction Signed\")\n",
    "        break\n",
    "    else:\n",
    "        time.sleep(1)\n",
    "        continue"
   ]
  },
  {
   "cell_type": "code",
   "execution_count": null,
   "metadata": {},
   "outputs": [],
   "source": [
    "signature = tx_info.signed_messages[0].to_dict()[\"signature\"]['fullSig']\n",
    "broadcast_deactivate_sol = twinstake_api_post(\n",
    "    token=get_cognito_auth(), \n",
    "    endpoint=\"staking/solana/broadcast\", \n",
    "    payload={\n",
    "        \"unsigned_transaction\": deactivate_sol['transaction']['hex'],\n",
    "        \"signatures\": [signature],\n",
    "    }\n",
    ")\n",
    "print(f\"🎉 Broadcasted Transaction: {broadcast_deactivate_sol['transaction_hash']}\")"
   ]
  },
  {
   "cell_type": "code",
   "execution_count": null,
   "metadata": {},
   "outputs": [],
   "source": [
    "tx_status = twinstake_api_get(\n",
    "    token=get_cognito_auth(), \n",
    "    endpoint=f\"staking/solana/transactions/{broadcast_deactivate_sol['transaction_hash']}\", \n",
    ")\n",
    "print(\"🔎 ✨ Successfully Deactivated Stake\")\n",
    "print(tx_status)"
   ]
  },
  {
   "cell_type": "markdown",
   "metadata": {},
   "source": [
    "### 4 - Withdraw the stake\n",
    "\n",
    "- Withdraw the stake from the validator using the stake account address you have"
   ]
  },
  {
   "cell_type": "code",
   "execution_count": 71,
   "metadata": {},
   "outputs": [],
   "source": [
    "withdraw_sol = twinstake_api_post(\n",
    "    token=get_cognito_auth(), \n",
    "    endpoint=\"staking/solana/withdraw\", \n",
    "    payload={\n",
    "        \"delegator_address\": address,\n",
    "        \"stake_account_address\": create_stake_account['stake_account_address'],\n",
    "        \"entity_filter\": ENTITY_FILTER\n",
    "    }\n",
    ")\n",
    "signed_request = fb_flow.sign_message(withdraw_sol[\"transaction\"][\"hash\"], VAULT_ID, ASSET)"
   ]
  },
  {
   "cell_type": "code",
   "execution_count": null,
   "metadata": {},
   "outputs": [],
   "source": [
    "while True:\n",
    "    tx_info: TransactionResponse = fb_flow.get_transaction_info(signed_request.data.id).data\n",
    "    if tx_info.status == \"COMPLETED\":\n",
    "        print(\"✍🏻 Transaction Signed\")\n",
    "        break\n",
    "    else:\n",
    "        time.sleep(1)\n",
    "        continue"
   ]
  },
  {
   "cell_type": "code",
   "execution_count": null,
   "metadata": {},
   "outputs": [],
   "source": [
    "signature = tx_info.signed_messages[0].to_dict()[\"signature\"]['fullSig']\n",
    "broadcast_withdraw_sol = twinstake_api_post(\n",
    "    token=get_cognito_auth(), \n",
    "    endpoint=\"staking/solana/broadcast\", \n",
    "    payload={\n",
    "        \"unsigned_transaction\": withdraw_sol['transaction']['hex'],\n",
    "        \"signatures\": [signature],\n",
    "    }\n",
    ")\n",
    "print(f\"🎉 Broadcasted Transaction: {broadcast_withdraw_sol['transaction_hash']}\")"
   ]
  },
  {
   "cell_type": "code",
   "execution_count": null,
   "metadata": {},
   "outputs": [],
   "source": [
    "tx_status = twinstake_api_get(\n",
    "    token=get_cognito_auth(), \n",
    "    endpoint=f\"staking/solana/transactions/{broadcast_withdraw_sol['transaction_hash']}\", \n",
    ")\n",
    "print(\"🔎 ✨ Successfully Withdrawn Stake\")\n",
    "print(tx_status)"
   ]
  },
  {
   "cell_type": "markdown",
   "metadata": {},
   "source": [
    "# Tendermint Staking with Twinstake and Fireblocks\n",
    "\n",
    "ASSET = `\"CELESTIA_TEST\"` for devnet, `\"CELESTIA\"` for mainnet\n",
    "for other tendermint assets, you can check the available assets ticker with the fireblocks SDK\n",
    "\n",
    "Cookbook:\n",
    "- [Delegate Tendermint asset to a validator](#1-delegate-tendermint-asset-to-a-validator)\n",
    "- [Claim Tendermint rewards](#2-claiming-tendermint-rewards)\n",
    "- [Undelegate Tendermint asset](#3-undelegate-tendermint-asset)\n"
   ]
  },
  {
   "cell_type": "markdown",
   "metadata": {},
   "source": [
    "### 1. Delegate Tendermint asset to a validator\n",
    "\n",
    "- Delegate the Tendermint asset to a validator"
   ]
  },
  {
   "cell_type": "code",
   "execution_count": 85,
   "metadata": {},
   "outputs": [],
   "source": [
    "AMOUNT = 0.1 # in $TOKEN\n",
    "\n",
    "delegate_tia = twinstake_api_post(\n",
    "    token=get_cognito_auth(), \n",
    "    endpoint=\"staking/celestia/delegate\", \n",
    "    payload={\n",
    "        \"amount\": AMOUNT,\n",
    "        \"delegator_address\": address,\n",
    "        \"delegator_public_key\": public_key,\n",
    "        \"validator_address\": VALIDATOR,\n",
    "        \"entity_filter\": ENTITY_FILTER\n",
    "    }\n",
    ")"
   ]
  },
  {
   "cell_type": "code",
   "execution_count": null,
   "metadata": {},
   "outputs": [],
   "source": [
    "signed_request = fb_flow.sign_message(delegate_tia[\"transaction\"][\"hash\"], VAULT_ID, ASSET)\n",
    "while True:\n",
    "    tx_info: TransactionResponse = fb_flow.get_transaction_info(signed_request.data.id).data\n",
    "    if tx_info.status == \"COMPLETED\":\n",
    "        print(\"✍🏻 Transaction Signed\")\n",
    "        break\n",
    "    else:\n",
    "        time.sleep(1)\n",
    "        continue"
   ]
  },
  {
   "cell_type": "code",
   "execution_count": null,
   "metadata": {},
   "outputs": [],
   "source": [
    "# Broadcasting the transaction to the network\n",
    "signature = tx_info.signed_messages[0].to_dict()[\"signature\"]['fullSig']\n",
    "broadcast_delegate_tia = twinstake_api_post(\n",
    "    token=get_cognito_auth(), \n",
    "    endpoint=\"staking/celestia/broadcast\", \n",
    "    payload={\n",
    "        \"unsigned_transaction\": delegate_tia['transaction']['hex'],\n",
    "        \"signatures\": [signature],\n",
    "    }\n",
    ")\n",
    "print(f\"🎉 Broadcasted Transaction: {broadcast_delegate_tia['transaction_hash']}\")"
   ]
  },
  {
   "cell_type": "code",
   "execution_count": null,
   "metadata": {},
   "outputs": [],
   "source": [
    "tx_status = twinstake_api_get(\n",
    "    token=get_cognito_auth(), \n",
    "    endpoint=f\"staking/celestia/transactions/{broadcast_delegate_tia['transaction_hash']}\", \n",
    ")\n",
    "print(\"🔎 ✨ Successfully found transaction on the network\")\n",
    "print(tx_status)"
   ]
  },
  {
   "cell_type": "markdown",
   "metadata": {},
   "source": [
    "### 2. Claiming Tendermint rewards"
   ]
  },
  {
   "cell_type": "code",
   "execution_count": 150,
   "metadata": {},
   "outputs": [],
   "source": [
    "claim_tia = twinstake_api_post(\n",
    "    token=get_cognito_auth(), \n",
    "    endpoint=\"staking/celestia/rewards/claim\", \n",
    "    payload={\n",
    "        \"delegator_address\": address,\n",
    "        \"delegator_public_key\": public_key,\n",
    "        \"validator_address\": VALIDATOR,\n",
    "        \"entity_filter\": ENTITY_FILTER\n",
    "    }\n",
    ")"
   ]
  },
  {
   "cell_type": "code",
   "execution_count": null,
   "metadata": {},
   "outputs": [],
   "source": [
    "signed_request = fb_flow.sign_message(claim_tia[\"transaction\"][\"hash\"], VAULT_ID, ASSET)\n",
    "while True:\n",
    "    tx_info: TransactionResponse = fb_flow.get_transaction_info(signed_request.data.id).data\n",
    "    if tx_info.status == \"COMPLETED\":\n",
    "        print(\"✍🏻 Transaction Signed\")\n",
    "        break\n",
    "    else:\n",
    "        time.sleep(1)\n",
    "        continue"
   ]
  },
  {
   "cell_type": "code",
   "execution_count": null,
   "metadata": {},
   "outputs": [],
   "source": [
    "# Broadcasting the transaction to the network\n",
    "signature = tx_info.signed_messages[0].to_dict()[\"signature\"]['fullSig']\n",
    "broadcast_claim_tia = twinstake_api_post(\n",
    "    token=get_cognito_auth(), \n",
    "    endpoint=\"staking/celestia/broadcast\", \n",
    "    payload={\n",
    "        \"unsigned_transaction\": claim_tia['transaction']['hex'],\n",
    "        \"signatures\": [signature],\n",
    "    }\n",
    ")\n",
    "print(f\"🎉 Broadcasted Transaction: {broadcast_claim_tia['transaction_hash']}\")"
   ]
  },
  {
   "cell_type": "code",
   "execution_count": null,
   "metadata": {},
   "outputs": [],
   "source": [
    "tx_status = twinstake_api_get(\n",
    "    token=get_cognito_auth(), \n",
    "    endpoint=f\"staking/celestia/transactions/{broadcast_claim_tia['transaction_hash']}\", \n",
    ")\n",
    "print(\"🔎 ✨ Successfully found transaction on the network\")\n",
    "print(tx_status)"
   ]
  },
  {
   "cell_type": "markdown",
   "metadata": {},
   "source": [
    "### 3 - Undelegate Tendermint asset\n",
    "\n",
    "- Undelegate the Tendermint asset from the validator\n",
    "- Specify `\"amount\"` information to undelegate a specific amount \n",
    "- Specify `\"unstake_all\"` to undelegate all the stake"
   ]
  },
  {
   "cell_type": "code",
   "execution_count": 14,
   "metadata": {},
   "outputs": [],
   "source": [
    "undelegate_tia = twinstake_api_post(\n",
    "    token=get_cognito_auth(), \n",
    "    endpoint=\"staking/celestia/undelegate\", \n",
    "    payload={\n",
    "        \"unstake_all\": True,\n",
    "        \"delegator_address\": address,\n",
    "        \"delegator_public_key\": public_key,\n",
    "        \"validator_address\": VALIDATOR,\n",
    "        \"entity_filter\": ENTITY_FILTER\n",
    "    }\n",
    ")"
   ]
  },
  {
   "cell_type": "code",
   "execution_count": null,
   "metadata": {},
   "outputs": [],
   "source": [
    "signed_request = fb_flow.sign_message(undelegate_tia[\"transaction\"][\"hash\"], VAULT_ID, ASSET)\n",
    "while True:\n",
    "    tx_info: TransactionResponse = fb_flow.get_transaction_info(signed_request.data.id).data\n",
    "    if tx_info.status == \"COMPLETED\":\n",
    "        print(\"✍🏻 Transaction Signed\")\n",
    "        break\n",
    "    else:\n",
    "        time.sleep(1)\n",
    "        continue"
   ]
  },
  {
   "cell_type": "code",
   "execution_count": null,
   "metadata": {},
   "outputs": [],
   "source": [
    "# Broadcasting the transaction to the network\n",
    "signature = tx_info.signed_messages[0].to_dict()[\"signature\"]['fullSig']\n",
    "broadcast_undelegate_tia = twinstake_api_post(\n",
    "    token=get_cognito_auth(), \n",
    "    endpoint=\"staking/celestia/broadcast\", \n",
    "    payload={\n",
    "        \"unsigned_transaction\": undelegate_tia['transaction']['hex'],\n",
    "        \"signatures\": [signature],\n",
    "    }\n",
    ")\n",
    "print(f\"🎉 Broadcasted Transaction: {broadcast_undelegate_tia['transaction_hash']}\")"
   ]
  },
  {
   "cell_type": "code",
   "execution_count": null,
   "metadata": {},
   "outputs": [],
   "source": [
    "tx_status = twinstake_api_get(\n",
    "    token=get_cognito_auth(), \n",
    "    endpoint=f\"staking/celestia/transactions/{broadcast_undelegate_tia['transaction_hash']}\", \n",
    ")\n",
    "print(\"🔎 ✨ Successfully found transaction on the network\")\n",
    "print(tx_status)"
   ]
  },
  {
   "cell_type": "markdown",
   "metadata": {},
   "source": [
    "# Near Staking with Twinstake and Fireblocks\n",
    "\n",
    "ASSET = `\"NEAR_TEST\"` for devnet, `\"NEAR\"` for mainnet\n",
    "\n",
    "Cookbook:\n",
    "- [Delegate Near tokens](#1-delegate-near-tokens)\n",
    "- [Undelegate Near rewards](#2-undelegate-near-rewards)\n",
    "- [Withdraw Near tokens](#3-withdraw-near-tokens)"
   ]
  },
  {
   "cell_type": "markdown",
   "metadata": {},
   "source": [
    "### 1 - Delegate Near tokens"
   ]
  },
  {
   "cell_type": "code",
   "execution_count": 25,
   "metadata": {},
   "outputs": [],
   "source": [
    "AMOUNT = 0.1 # in $TOKEN\n",
    "\n",
    "delegate_near = twinstake_api_post(\n",
    "    token=get_cognito_auth(), \n",
    "    endpoint=\"staking/near/delegate\", \n",
    "    payload={\n",
    "        \"amount\": AMOUNT,\n",
    "        \"delegator_address\": address,\n",
    "        \"delegator_public_key\": public_key,\n",
    "        \"validator_address\": VALIDATOR,\n",
    "        \"entity_filter\": ENTITY_FILTER\n",
    "    }\n",
    ")"
   ]
  },
  {
   "cell_type": "code",
   "execution_count": null,
   "metadata": {},
   "outputs": [],
   "source": [
    "signed_request = fb_flow.sign_message(delegate_near[\"transaction\"][\"hash\"], VAULT_ID, ASSET)\n",
    "while True:\n",
    "    tx_info: TransactionResponse = fb_flow.get_transaction_info(signed_request.data.id).data\n",
    "    if tx_info.status == \"COMPLETED\":\n",
    "        print(\"✍🏻 Transaction Signed\")\n",
    "        break\n",
    "    else:\n",
    "        time.sleep(1)\n",
    "        continue"
   ]
  },
  {
   "cell_type": "code",
   "execution_count": 28,
   "metadata": {},
   "outputs": [],
   "source": [
    "signature = tx_info.signed_messages[0].to_dict()[\"signature\"]['fullSig']"
   ]
  },
  {
   "cell_type": "code",
   "execution_count": null,
   "metadata": {},
   "outputs": [],
   "source": [
    "# Broadcasting the transaction to the network\n",
    "#signature = tx_info.signed_messages[0].to_dict()[\"signature\"]['fullSig']\n",
    "broadcast_delegate_near = twinstake_api_post(\n",
    "    token=get_cognito_auth(), \n",
    "    endpoint=\"staking/near/broadcast\", \n",
    "    payload={\n",
    "        \"unsigned_transaction\": delegate_near['transaction']['raw'],\n",
    "        \"signatures\": [signature],\n",
    "    }\n",
    ")\n",
    "print(f\"🎉 Broadcasted Transaction: {broadcast_delegate_near['transaction_hash']}\")"
   ]
  },
  {
   "cell_type": "code",
   "execution_count": null,
   "metadata": {},
   "outputs": [],
   "source": [
    "tx_status = twinstake_api_get(\n",
    "    token=get_cognito_auth(), \n",
    "    endpoint=f\"staking/near/transactions/{broadcast_delegate_near['transaction_hash']}?sender_account_id={address}\", \n",
    ")\n",
    "print(\"🔎 ✨ Successfully found transaction on the network\")\n",
    "print(tx_status)"
   ]
  },
  {
   "cell_type": "markdown",
   "metadata": {},
   "source": [
    "### 2 - Undelegate Near Rewards\n",
    "\n",
    "input \"amount\" to undelegate a specific amount\n",
    "\n",
    "Note: If you want to undelegate all the rewards, specify `\"unstake_all\": True`"
   ]
  },
  {
   "cell_type": "code",
   "execution_count": 107,
   "metadata": {},
   "outputs": [],
   "source": [
    "undelegate_near = twinstake_api_post(\n",
    "    token=get_cognito_auth(), \n",
    "    endpoint=\"staking/near/undelegate\", \n",
    "    payload={\n",
    "        \"delegator_address\": address,\n",
    "        \"delegator_public_key\": public_key,\n",
    "        \"validator_address\": VALIDATOR,\n",
    "        \"entity_filter\": ENTITY_FILTER\n",
    "    }\n",
    ")"
   ]
  },
  {
   "cell_type": "code",
   "execution_count": null,
   "metadata": {},
   "outputs": [],
   "source": [
    "signed_request = fb_flow.sign_message(undelegate_near[\"transaction\"][\"hash\"], VAULT_ID, ASSET)\n",
    "while True:\n",
    "    tx_info: TransactionResponse = fb_flow.get_transaction_info(signed_request.data.id).data\n",
    "    if tx_info.status == \"COMPLETED\":\n",
    "        print(\"✍🏻 Transaction Signed\")\n",
    "        break\n",
    "    else:\n",
    "        time.sleep(1)\n",
    "        continue"
   ]
  },
  {
   "cell_type": "code",
   "execution_count": null,
   "metadata": {},
   "outputs": [],
   "source": [
    "# Broadcasting the transaction to the network\n",
    "signature = tx_info.signed_messages[0].to_dict()[\"signature\"]['fullSig']\n",
    "broadcast_undelegate_near = twinstake_api_post(\n",
    "    token=get_cognito_auth(), \n",
    "    endpoint=\"staking/near/broadcast\", \n",
    "    payload={\n",
    "        \"unsigned_transaction\": undelegate_near['transaction']['raw'],\n",
    "        \"signatures\": [signature],\n",
    "    }\n",
    ")\n",
    "print(f\"🎉 Broadcasted Transaction: {broadcast_undelegate_near['transaction_hash']}\")"
   ]
  },
  {
   "cell_type": "code",
   "execution_count": null,
   "metadata": {},
   "outputs": [],
   "source": [
    "tx_status = twinstake_api_get(\n",
    "    token=get_cognito_auth(), \n",
    "    endpoint=f\"staking/near/transactions/{broadcast_undelegate_near['transaction_hash']}?sender_account_id={address}\", \n",
    ")\n",
    "print(\"🔎 ✨ Successfully found transaction on the network\")\n",
    "print(tx_status)"
   ]
  },
  {
   "cell_type": "markdown",
   "metadata": {},
   "source": [
    "### 3 - Withdraw Near Tokens"
   ]
  },
  {
   "cell_type": "code",
   "execution_count": 113,
   "metadata": {},
   "outputs": [],
   "source": [
    "withdraw_near = twinstake_api_post(\n",
    "    token=get_cognito_auth(), \n",
    "    endpoint=\"staking/near/withdraw\", \n",
    "    payload={\n",
    "        \"delegator_address\": address,\n",
    "        \"delegator_public_key\": public_key,\n",
    "        \"validator_address\": VALIDATOR,\n",
    "        \"entity_filter\": ENTITY_FILTER\n",
    "    }\n",
    ")"
   ]
  },
  {
   "cell_type": "code",
   "execution_count": null,
   "metadata": {},
   "outputs": [],
   "source": [
    "signed_request = fb_flow.sign_message(withdraw_near[\"transaction\"][\"hash\"], VAULT_ID, ASSET)\n",
    "while True:\n",
    "    tx_info: TransactionResponse = fb_flow.get_transaction_info(signed_request.data.id).data\n",
    "    if tx_info.status == \"COMPLETED\":\n",
    "        print(\"✍🏻 Transaction Signed\")\n",
    "        break\n",
    "    else:\n",
    "        time.sleep(1)\n",
    "        continue"
   ]
  },
  {
   "cell_type": "code",
   "execution_count": null,
   "metadata": {},
   "outputs": [],
   "source": [
    "# Broadcasting the transaction to the network\n",
    "signature = tx_info.signed_messages[0].to_dict()[\"signature\"]['fullSig']\n",
    "broadcast_withdraw_near = twinstake_api_post(\n",
    "    token=get_cognito_auth(), \n",
    "    endpoint=\"staking/near/broadcast\", \n",
    "    payload={\n",
    "        \"unsigned_transaction\": withdraw_near['transaction']['raw'],\n",
    "        \"signatures\": [signature],\n",
    "    }\n",
    ")\n",
    "print(f\"🎉 Broadcasted Transaction: {broadcast_withdraw_near['transaction_hash']}\")"
   ]
  },
  {
   "cell_type": "code",
   "execution_count": null,
   "metadata": {},
   "outputs": [],
   "source": [
    "tx_status = twinstake_api_get(\n",
    "    token=get_cognito_auth(), \n",
    "    endpoint=f\"staking/near/transactions/{broadcast_withdraw_near['transaction_hash']}?sender_account_id={address}\", \n",
    ")\n",
    "print(\"🔎 ✨ Successfully found transaction on the network\")\n",
    "print(tx_status)"
   ]
  },
  {
   "cell_type": "markdown",
   "metadata": {},
   "source": [
    "# Polygon Staking with Twinstake and Fireblocks\n",
    "\n",
    "ASSET = `\"ETH_TEST5\"` for testnet, `\"ETH\"` for mainnet\n",
    "\n",
    "Cookbook:\n",
    "- [Set Allowance for Polygon Tokens and delegate](#1-set-allowance-for-polygon-tokens-and-delegate)\n",
    "- [Delegate Polygon tokens](#2-claim-polygon-rewards)\n",
    "- [Undelegate Polygon rewards](#2-unstake-polygon-rewards)\n",
    "- [Withdraw Polygon tokens](#3-claim-unstaked-polygon-tokens)\n"
   ]
  },
  {
   "cell_type": "markdown",
   "metadata": {},
   "source": [
    "### 1 - Set Allowance for Polygon Tokens and delegate"
   ]
  },
  {
   "cell_type": "code",
   "execution_count": 8,
   "metadata": {},
   "outputs": [],
   "source": [
    "AMOUNT = 0.1 # in $POL\n",
    "allowance_pol = twinstake_api_post(\n",
    "    token=get_cognito_auth(), \n",
    "    endpoint=\"staking/polygon/allowance\", \n",
    "    payload={\n",
    "        \"amount\": AMOUNT,\n",
    "        \"delegator_address\": address,\n",
    "        \"validator_address\": VALIDATOR,\n",
    "        \"entity_filter\": ENTITY_FILTER\n",
    "    }\n",
    ")"
   ]
  },
  {
   "cell_type": "code",
   "execution_count": null,
   "metadata": {},
   "outputs": [],
   "source": [
    "signed_request = fb_flow.sign_message(allowance_pol[\"transaction\"][\"hash\"], VAULT_ID, ASSET)\n",
    "while True:\n",
    "    tx_info: TransactionResponse = fb_flow.get_transaction_info(signed_request.data.id).data\n",
    "    if tx_info.status == \"COMPLETED\":\n",
    "        print(\"✍🏻 Transaction Signed\")\n",
    "        break\n",
    "    else:\n",
    "        time.sleep(1)\n",
    "        continue"
   ]
  },
  {
   "cell_type": "code",
   "execution_count": null,
   "metadata": {},
   "outputs": [],
   "source": [
    "# Broadcasting the transaction to the network\n",
    "signature = tx_info.signed_messages[0].to_dict()[\"signature\"]['fullSig']\n",
    "broadcast_allowance_pol = twinstake_api_post(\n",
    "    token=get_cognito_auth(), \n",
    "    endpoint=\"staking/polygon/broadcast\", \n",
    "    payload={\n",
    "        \"unsigned_transaction\": allowance_pol[\"transaction\"][\"hex\"],\n",
    "        \"signatures\": [signature],\n",
    "        \"delegator_address\": address\n",
    "    }\n",
    ")\n",
    "print(f\"🎉 Broadcasted Transaction: {broadcast_allowance_pol['transaction_hash']}\")"
   ]
  },
  {
   "cell_type": "code",
   "execution_count": null,
   "metadata": {},
   "outputs": [],
   "source": [
    "tx_status = twinstake_api_get(\n",
    "    token=get_cognito_auth(), \n",
    "    endpoint=f\"staking/polygon/transactions/{broadcast_allowance_pol['transaction_hash']}\", \n",
    ")\n",
    "print(\"🔎 ✨ Successfully found transaction on the network\")\n",
    "print(tx_status)"
   ]
  },
  {
   "cell_type": "code",
   "execution_count": 24,
   "metadata": {},
   "outputs": [],
   "source": [
    "delegate_pol = twinstake_api_post(\n",
    "    token=get_cognito_auth(), \n",
    "    endpoint=\"staking/polygon/delegate\", \n",
    "    payload={\n",
    "        \"amount\": AMOUNT,\n",
    "        \"delegator_address\": address,\n",
    "        \"validator_address\": VALIDATOR,\n",
    "        \"entity_filter\": ENTITY_FILTER\n",
    "    }\n",
    ")"
   ]
  },
  {
   "cell_type": "code",
   "execution_count": null,
   "metadata": {},
   "outputs": [],
   "source": [
    "signed_request = fb_flow.sign_message(delegate_pol[\"transaction\"][\"hash\"], VAULT_ID, ASSET)\n",
    "while True:\n",
    "    tx_info: TransactionResponse = fb_flow.get_transaction_info(signed_request.data.id).data\n",
    "    if tx_info.status == \"COMPLETED\":\n",
    "        print(\"✍🏻 Transaction Signed\")\n",
    "        break\n",
    "    else:\n",
    "        time.sleep(1)\n",
    "        continue"
   ]
  },
  {
   "cell_type": "code",
   "execution_count": null,
   "metadata": {},
   "outputs": [],
   "source": [
    "# Broadcasting the transaction to the network\n",
    "signature = tx_info.signed_messages[0].to_dict()[\"signature\"]['fullSig']\n",
    "broadcast_delegate_pol = twinstake_api_post(\n",
    "    token=get_cognito_auth(), \n",
    "    endpoint=\"staking/polygon/broadcast\", \n",
    "    payload={\n",
    "        \"unsigned_transaction\": delegate_pol[\"transaction\"][\"hex\"],\n",
    "        \"signatures\": [signature],\n",
    "        \"delegator_address\": address\n",
    "    }\n",
    ")\n",
    "print(f\"🎉 Broadcasted Transaction: {broadcast_delegate_pol['transaction_hash']}\")"
   ]
  },
  {
   "cell_type": "code",
   "execution_count": null,
   "metadata": {},
   "outputs": [],
   "source": [
    "tx_status = twinstake_api_get(\n",
    "    token=get_cognito_auth(), \n",
    "    endpoint=f\"staking/polygon/transactions/{broadcast_delegate_pol['transaction_hash']}\", \n",
    ")\n",
    "print(\"🔎 ✨ Successfully found transaction on the network\")\n",
    "print(tx_status)"
   ]
  },
  {
   "cell_type": "markdown",
   "metadata": {},
   "source": [
    "### 2 - Claiming Polygon rewards"
   ]
  },
  {
   "cell_type": "code",
   "execution_count": 34,
   "metadata": {},
   "outputs": [],
   "source": [
    "claim_rewards_pol = twinstake_api_post(\n",
    "    token=get_cognito_auth(), \n",
    "    endpoint=\"staking/polygon/claim_rewards\", \n",
    "    payload={\n",
    "        \"delegator_address\": address,\n",
    "        \"validator_address\": VALIDATOR,\n",
    "        \"entity_filter\": ENTITY_FILTER\n",
    "    }\n",
    ")"
   ]
  },
  {
   "cell_type": "code",
   "execution_count": null,
   "metadata": {},
   "outputs": [],
   "source": [
    "signed_request = fb_flow.sign_message(claim_rewards_pol[\"transaction\"][\"hash\"], VAULT_ID, ASSET)\n",
    "while True:\n",
    "    tx_info: TransactionResponse = fb_flow.get_transaction_info(signed_request.data.id).data\n",
    "    if tx_info.status == \"COMPLETED\":\n",
    "        print(\"✍🏻 Transaction Signed\")\n",
    "        break\n",
    "    else:\n",
    "        time.sleep(1)\n",
    "        continue"
   ]
  },
  {
   "cell_type": "code",
   "execution_count": null,
   "metadata": {},
   "outputs": [],
   "source": [
    "# Broadcasting the transaction to the network\n",
    "signature = tx_info.signed_messages[0].to_dict()[\"signature\"]['fullSig']\n",
    "broadcast_claim_rewards_pol = twinstake_api_post(\n",
    "    token=get_cognito_auth(), \n",
    "    endpoint=\"staking/polygon/broadcast\", \n",
    "    payload={\n",
    "        \"unsigned_transaction\": claim_rewards_pol[\"transaction\"][\"hex\"],\n",
    "        \"signatures\": [signature],\n",
    "        \"delegator_address\": address\n",
    "    }\n",
    ")\n",
    "print(f\"🎉 Broadcasted Transaction: {broadcast_claim_rewards_pol['transaction_hash']}\")"
   ]
  },
  {
   "cell_type": "code",
   "execution_count": null,
   "metadata": {},
   "outputs": [],
   "source": [
    "tx_status = twinstake_api_get(\n",
    "    token=get_cognito_auth(), \n",
    "    endpoint=f\"staking/polygon/transactions/{broadcast_claim_rewards_pol['transaction_hash']}\", \n",
    ")\n",
    "print(\"🔎 ✨ Successfully found transaction on the network\")\n",
    "print(tx_status)"
   ]
  },
  {
   "cell_type": "markdown",
   "metadata": {},
   "source": [
    "### 3 - Unstake Polygon tokens"
   ]
  },
  {
   "cell_type": "code",
   "execution_count": 9,
   "metadata": {},
   "outputs": [],
   "source": [
    "claim_unbond_pol = twinstake_api_post(\n",
    "    token=get_cognito_auth(), \n",
    "    endpoint=\"staking/polygon/unbond\", \n",
    "    payload={\n",
    "        \"amount\": AMOUNT,\n",
    "        \"delegator_address\": address,\n",
    "        \"validator_address\": VALIDATOR,\n",
    "        \"entity_filter\": ENTITY_FILTER\n",
    "    }\n",
    ")"
   ]
  },
  {
   "cell_type": "code",
   "execution_count": null,
   "metadata": {},
   "outputs": [],
   "source": [
    "signed_request = fb_flow.sign_message(claim_unbond_pol[\"transaction\"][\"hash\"], VAULT_ID, ASSET)\n",
    "while True:\n",
    "    tx_info: TransactionResponse = fb_flow.get_transaction_info(signed_request.data.id).data\n",
    "    if tx_info.status == \"COMPLETED\":\n",
    "        print(\"✍🏻 Transaction Signed\")\n",
    "        break\n",
    "    else:\n",
    "        time.sleep(1)\n",
    "        continue"
   ]
  },
  {
   "cell_type": "code",
   "execution_count": null,
   "metadata": {},
   "outputs": [],
   "source": [
    "# Broadcasting the transaction to the network\n",
    "signature = tx_info.signed_messages[0].to_dict()[\"signature\"]['fullSig']\n",
    "broadcast_unbond_pol = twinstake_api_post(\n",
    "    token=get_cognito_auth(), \n",
    "    endpoint=\"staking/polygon/broadcast\", \n",
    "    payload={\n",
    "        \"unsigned_transaction\": claim_unbond_pol[\"transaction\"][\"hex\"],\n",
    "        \"signatures\": [signature],\n",
    "        \"delegator_address\": address\n",
    "    }\n",
    ")\n",
    "print(f\"🎉 Broadcasted Transaction: {broadcast_unbond_pol['transaction_hash']}\")"
   ]
  },
  {
   "cell_type": "code",
   "execution_count": null,
   "metadata": {},
   "outputs": [],
   "source": [
    "tx_status = twinstake_api_get(\n",
    "    token=get_cognito_auth(), \n",
    "    endpoint=f\"staking/polygon/transactions/{broadcast_unbond_pol['transaction_hash']}\", \n",
    ")\n",
    "print(\"🔎 ✨ Successfully found transaction on the network\")\n",
    "print(tx_status)"
   ]
  },
  {
   "cell_type": "markdown",
   "metadata": {},
   "source": [
    "### 4 - Claim Unstaked Polygon tokens"
   ]
  },
  {
   "cell_type": "code",
   "execution_count": 13,
   "metadata": {},
   "outputs": [],
   "source": [
    "claim_unbond_claim_pol = twinstake_api_post(\n",
    "    token=get_cognito_auth(), \n",
    "    endpoint=\"staking/polygon/unbond_claim\", \n",
    "    payload={\n",
    "        \"amount\": AMOUNT,\n",
    "        \"delegator_address\": address,\n",
    "        \"validator_address\": VALIDATOR,\n",
    "        \"entity_filter\": ENTITY_FILTER\n",
    "    }\n",
    ")"
   ]
  },
  {
   "cell_type": "code",
   "execution_count": null,
   "metadata": {},
   "outputs": [],
   "source": [
    "signed_request = fb_flow.sign_message(claim_unbond_claim_pol[\"transaction\"][\"hash\"], VAULT_ID, ASSET)\n",
    "while True:\n",
    "    tx_info: TransactionResponse = fb_flow.get_transaction_info(signed_request.data.id).data\n",
    "    if tx_info.status == \"COMPLETED\":\n",
    "        print(\"✍🏻 Transaction Signed\")\n",
    "        break\n",
    "    else:\n",
    "        time.sleep(1)\n",
    "        continue"
   ]
  },
  {
   "cell_type": "code",
   "execution_count": null,
   "metadata": {},
   "outputs": [],
   "source": [
    "# Broadcasting the transaction to the network\n",
    "signature = tx_info.signed_messages[0].to_dict()[\"signature\"]['fullSig']\n",
    "broadcast_unbond_claim_pol = twinstake_api_post(\n",
    "    token=get_cognito_auth(), \n",
    "    endpoint=\"staking/polygon/broadcast\", \n",
    "    payload={\n",
    "        \"unsigned_transaction\": claim_unbond_claim_pol[\"transaction\"][\"hex\"],\n",
    "        \"signatures\": [signature],\n",
    "        \"delegator_address\": address\n",
    "    }\n",
    ")\n",
    "print(f\"🎉 Broadcasted Transaction: {broadcast_unbond_claim_pol['transaction_hash']}\")"
   ]
  },
  {
   "cell_type": "code",
   "execution_count": null,
   "metadata": {},
   "outputs": [],
   "source": [
    "tx_status = twinstake_api_get(\n",
    "    token=get_cognito_auth(), \n",
    "    endpoint=f\"staking/polygon/transactions/{broadcast_unbond_claim_pol['transaction_hash']}\", \n",
    ")\n",
    "print(\"🔎 ✨ Successfully found transaction on the network\")\n",
    "print(tx_status)"
   ]
  },
  {
   "cell_type": "code",
   "execution_count": null,
   "metadata": {},
   "outputs": [],
   "source": [
    "tx_status.json()"
   ]
  }
 ],
 "metadata": {
  "kernelspec": {
   "display_name": "Python 3",
   "language": "python",
   "name": "python3"
  },
  "language_info": {
   "codemirror_mode": {
    "name": "ipython",
    "version": 3
   },
   "file_extension": ".py",
   "mimetype": "text/x-python",
   "name": "python",
   "nbconvert_exporter": "python",
   "pygments_lexer": "ipython3",
   "version": "3.12.7"
  }
 },
 "nbformat": 4,
 "nbformat_minor": 2
}
